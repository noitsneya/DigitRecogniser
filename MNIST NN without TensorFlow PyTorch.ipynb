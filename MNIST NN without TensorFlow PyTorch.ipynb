{
 "cells": [
  {
   "cell_type": "code",
   "execution_count": 34,
   "metadata": {
    "_cell_guid": "b1076dfc-b9ad-4769-8c92-a6c4dae69d19",
    "_uuid": "8f2839f25d086af736a60e9eeb907d3b93b6e0e5",
    "execution": {
     "iopub.execute_input": "2025-05-24T07:34:46.294841Z",
     "iopub.status.busy": "2025-05-24T07:34:46.294382Z",
     "iopub.status.idle": "2025-05-24T07:34:46.299528Z",
     "shell.execute_reply": "2025-05-24T07:34:46.298510Z",
     "shell.execute_reply.started": "2025-05-24T07:34:46.294813Z"
    },
    "trusted": true
   },
   "outputs": [],
   "source": [
    "import numpy as np #for matricecs\n",
    "import pandas as pd #for reading the data\n",
    "from matplotlib import pyplot as plt #for showing images"
   ]
  },
  {
   "cell_type": "code",
   "execution_count": 35,
   "metadata": {
    "execution": {
     "iopub.execute_input": "2025-05-24T07:34:46.301460Z",
     "iopub.status.busy": "2025-05-24T07:34:46.301161Z",
     "iopub.status.idle": "2025-05-24T07:34:48.571513Z",
     "shell.execute_reply": "2025-05-24T07:34:48.570808Z",
     "shell.execute_reply.started": "2025-05-24T07:34:46.301432Z"
    },
    "trusted": true
   },
   "outputs": [],
   "source": [
    "data = pd.read_csv(\"/kaggle/input/digit-recognizer/train.csv\")"
   ]
  },
  {
   "cell_type": "code",
   "execution_count": 36,
   "metadata": {
    "execution": {
     "iopub.execute_input": "2025-05-24T07:34:48.572539Z",
     "iopub.status.busy": "2025-05-24T07:34:48.572320Z",
     "iopub.status.idle": "2025-05-24T07:34:48.584905Z",
     "shell.execute_reply": "2025-05-24T07:34:48.584173Z",
     "shell.execute_reply.started": "2025-05-24T07:34:48.572521Z"
    },
    "trusted": true
   },
   "outputs": [
    {
     "data": {
      "text/html": [
       "<div>\n",
       "<style scoped>\n",
       "    .dataframe tbody tr th:only-of-type {\n",
       "        vertical-align: middle;\n",
       "    }\n",
       "\n",
       "    .dataframe tbody tr th {\n",
       "        vertical-align: top;\n",
       "    }\n",
       "\n",
       "    .dataframe thead th {\n",
       "        text-align: right;\n",
       "    }\n",
       "</style>\n",
       "<table border=\"1\" class=\"dataframe\">\n",
       "  <thead>\n",
       "    <tr style=\"text-align: right;\">\n",
       "      <th></th>\n",
       "      <th>label</th>\n",
       "      <th>pixel0</th>\n",
       "      <th>pixel1</th>\n",
       "      <th>pixel2</th>\n",
       "      <th>pixel3</th>\n",
       "      <th>pixel4</th>\n",
       "      <th>pixel5</th>\n",
       "      <th>pixel6</th>\n",
       "      <th>pixel7</th>\n",
       "      <th>pixel8</th>\n",
       "      <th>...</th>\n",
       "      <th>pixel774</th>\n",
       "      <th>pixel775</th>\n",
       "      <th>pixel776</th>\n",
       "      <th>pixel777</th>\n",
       "      <th>pixel778</th>\n",
       "      <th>pixel779</th>\n",
       "      <th>pixel780</th>\n",
       "      <th>pixel781</th>\n",
       "      <th>pixel782</th>\n",
       "      <th>pixel783</th>\n",
       "    </tr>\n",
       "  </thead>\n",
       "  <tbody>\n",
       "    <tr>\n",
       "      <th>0</th>\n",
       "      <td>1</td>\n",
       "      <td>0</td>\n",
       "      <td>0</td>\n",
       "      <td>0</td>\n",
       "      <td>0</td>\n",
       "      <td>0</td>\n",
       "      <td>0</td>\n",
       "      <td>0</td>\n",
       "      <td>0</td>\n",
       "      <td>0</td>\n",
       "      <td>...</td>\n",
       "      <td>0</td>\n",
       "      <td>0</td>\n",
       "      <td>0</td>\n",
       "      <td>0</td>\n",
       "      <td>0</td>\n",
       "      <td>0</td>\n",
       "      <td>0</td>\n",
       "      <td>0</td>\n",
       "      <td>0</td>\n",
       "      <td>0</td>\n",
       "    </tr>\n",
       "    <tr>\n",
       "      <th>1</th>\n",
       "      <td>0</td>\n",
       "      <td>0</td>\n",
       "      <td>0</td>\n",
       "      <td>0</td>\n",
       "      <td>0</td>\n",
       "      <td>0</td>\n",
       "      <td>0</td>\n",
       "      <td>0</td>\n",
       "      <td>0</td>\n",
       "      <td>0</td>\n",
       "      <td>...</td>\n",
       "      <td>0</td>\n",
       "      <td>0</td>\n",
       "      <td>0</td>\n",
       "      <td>0</td>\n",
       "      <td>0</td>\n",
       "      <td>0</td>\n",
       "      <td>0</td>\n",
       "      <td>0</td>\n",
       "      <td>0</td>\n",
       "      <td>0</td>\n",
       "    </tr>\n",
       "    <tr>\n",
       "      <th>2</th>\n",
       "      <td>1</td>\n",
       "      <td>0</td>\n",
       "      <td>0</td>\n",
       "      <td>0</td>\n",
       "      <td>0</td>\n",
       "      <td>0</td>\n",
       "      <td>0</td>\n",
       "      <td>0</td>\n",
       "      <td>0</td>\n",
       "      <td>0</td>\n",
       "      <td>...</td>\n",
       "      <td>0</td>\n",
       "      <td>0</td>\n",
       "      <td>0</td>\n",
       "      <td>0</td>\n",
       "      <td>0</td>\n",
       "      <td>0</td>\n",
       "      <td>0</td>\n",
       "      <td>0</td>\n",
       "      <td>0</td>\n",
       "      <td>0</td>\n",
       "    </tr>\n",
       "    <tr>\n",
       "      <th>3</th>\n",
       "      <td>4</td>\n",
       "      <td>0</td>\n",
       "      <td>0</td>\n",
       "      <td>0</td>\n",
       "      <td>0</td>\n",
       "      <td>0</td>\n",
       "      <td>0</td>\n",
       "      <td>0</td>\n",
       "      <td>0</td>\n",
       "      <td>0</td>\n",
       "      <td>...</td>\n",
       "      <td>0</td>\n",
       "      <td>0</td>\n",
       "      <td>0</td>\n",
       "      <td>0</td>\n",
       "      <td>0</td>\n",
       "      <td>0</td>\n",
       "      <td>0</td>\n",
       "      <td>0</td>\n",
       "      <td>0</td>\n",
       "      <td>0</td>\n",
       "    </tr>\n",
       "    <tr>\n",
       "      <th>4</th>\n",
       "      <td>0</td>\n",
       "      <td>0</td>\n",
       "      <td>0</td>\n",
       "      <td>0</td>\n",
       "      <td>0</td>\n",
       "      <td>0</td>\n",
       "      <td>0</td>\n",
       "      <td>0</td>\n",
       "      <td>0</td>\n",
       "      <td>0</td>\n",
       "      <td>...</td>\n",
       "      <td>0</td>\n",
       "      <td>0</td>\n",
       "      <td>0</td>\n",
       "      <td>0</td>\n",
       "      <td>0</td>\n",
       "      <td>0</td>\n",
       "      <td>0</td>\n",
       "      <td>0</td>\n",
       "      <td>0</td>\n",
       "      <td>0</td>\n",
       "    </tr>\n",
       "  </tbody>\n",
       "</table>\n",
       "<p>5 rows × 785 columns</p>\n",
       "</div>"
      ],
      "text/plain": [
       "   label  pixel0  pixel1  pixel2  pixel3  pixel4  pixel5  pixel6  pixel7  \\\n",
       "0      1       0       0       0       0       0       0       0       0   \n",
       "1      0       0       0       0       0       0       0       0       0   \n",
       "2      1       0       0       0       0       0       0       0       0   \n",
       "3      4       0       0       0       0       0       0       0       0   \n",
       "4      0       0       0       0       0       0       0       0       0   \n",
       "\n",
       "   pixel8  ...  pixel774  pixel775  pixel776  pixel777  pixel778  pixel779  \\\n",
       "0       0  ...         0         0         0         0         0         0   \n",
       "1       0  ...         0         0         0         0         0         0   \n",
       "2       0  ...         0         0         0         0         0         0   \n",
       "3       0  ...         0         0         0         0         0         0   \n",
       "4       0  ...         0         0         0         0         0         0   \n",
       "\n",
       "   pixel780  pixel781  pixel782  pixel783  \n",
       "0         0         0         0         0  \n",
       "1         0         0         0         0  \n",
       "2         0         0         0         0  \n",
       "3         0         0         0         0  \n",
       "4         0         0         0         0  \n",
       "\n",
       "[5 rows x 785 columns]"
      ]
     },
     "execution_count": 36,
     "metadata": {},
     "output_type": "execute_result"
    }
   ],
   "source": [
    "data.head()"
   ]
  },
  {
   "cell_type": "code",
   "execution_count": 37,
   "metadata": {
    "execution": {
     "iopub.execute_input": "2025-05-24T07:34:48.586547Z",
     "iopub.status.busy": "2025-05-24T07:34:48.586330Z",
     "iopub.status.idle": "2025-05-24T07:34:49.361039Z",
     "shell.execute_reply": "2025-05-24T07:34:49.360283Z",
     "shell.execute_reply.started": "2025-05-24T07:34:48.586529Z"
    },
    "trusted": true
   },
   "outputs": [],
   "source": [
    "data = np.array(data)\n",
    "m, n = data.shape\n",
    "np.random.shuffle(data) # shuffle before splitting into dev and training sets\n",
    "\n",
    "data_dev = data[0:1000].T\n",
    "Y_dev = data_dev[0]\n",
    "X_dev = data_dev[1:n]\n",
    "X_dev = X_dev / 255.\n",
    "\n",
    "data_train = data[1000:m].T\n",
    "Y_train = data_train[0]\n",
    "X_train = data_train[1:n]\n",
    "X_train = X_train / 255.\n",
    "_,m_train = X_train.shape"
   ]
  },
  {
   "cell_type": "code",
   "execution_count": 38,
   "metadata": {
    "execution": {
     "iopub.execute_input": "2025-05-24T07:34:49.362198Z",
     "iopub.status.busy": "2025-05-24T07:34:49.361863Z",
     "iopub.status.idle": "2025-05-24T07:34:49.366738Z",
     "shell.execute_reply": "2025-05-24T07:34:49.366075Z",
     "shell.execute_reply.started": "2025-05-24T07:34:49.362177Z"
    },
    "trusted": true
   },
   "outputs": [
    {
     "data": {
      "text/plain": [
       "(784,)"
      ]
     },
     "execution_count": 38,
     "metadata": {},
     "output_type": "execute_result"
    }
   ],
   "source": [
    "Y_train\n",
    "X_train[:, 0].shape #784 pixels in it"
   ]
  },
  {
   "cell_type": "code",
   "execution_count": 39,
   "metadata": {
    "execution": {
     "iopub.execute_input": "2025-05-24T07:34:49.367793Z",
     "iopub.status.busy": "2025-05-24T07:34:49.367547Z",
     "iopub.status.idle": "2025-05-24T07:34:49.441257Z",
     "shell.execute_reply": "2025-05-24T07:34:49.440327Z",
     "shell.execute_reply.started": "2025-05-24T07:34:49.367775Z"
    },
    "trusted": true
   },
   "outputs": [],
   "source": [
    "def init_params():\n",
    "    W1 = np.random.rand(10, 784) - 0.5\n",
    "    b1 = np.random.rand(10, 1) - 0.5\n",
    "    W2 = np.random.rand(10, 10) - 0.5\n",
    "    b2 = np.random.rand(10, 1) - 0.5\n",
    "    return W1, b1, W2, b2\n",
    "    \n",
    "def ReLU(Z):\n",
    "    return np.maximum(Z, 0)\n",
    "\n",
    "def softmax(Z):\n",
    "    A = np.exp(Z) / sum(np.exp(Z))\n",
    "    return A\n",
    "    \n",
    "def forward_prop(W1, b1, W2, b2, X):\n",
    "    Z1 = W1.dot(X) + b1\n",
    "    A1 = ReLU(Z1)\n",
    "    Z2 = W2.dot(A1) + b2\n",
    "    A2 = softmax(Z2)\n",
    "    return Z1, A1, Z2, A2\n",
    "\n",
    "def ReLU_deriv(Z):\n",
    "    return Z > 0\n",
    "\n",
    "def one_hot(Y):\n",
    "    one_hot_Y = np.zeros((Y.size, Y.max() + 1))\n",
    "    one_hot_Y[np.arange(Y.size), Y] = 1\n",
    "    one_hot_Y = one_hot_Y.T\n",
    "    return one_hot_Y\n",
    "\n",
    "def backward_prop(Z1, A1, Z2, A2, W1, W2, X, Y):\n",
    "    one_hot_Y = one_hot(Y)\n",
    "    dZ2 = A2 - one_hot_Y\n",
    "    dW2 = 1 / m * dZ2.dot(A1.T)\n",
    "    db2 = 1 / m * np.sum(dZ2)\n",
    "    dZ1 = W2.T.dot(dZ2) * ReLU_deriv(Z1)\n",
    "    dW1 = 1 / m * dZ1.dot(X.T)\n",
    "    db1 = 1 / m * np.sum(dZ1)\n",
    "    return dW1, db1, dW2, db2\n",
    "\n",
    "def update_params(W1, b1, W2, b2, dW1, db1, dW2, db2, alpha):\n",
    "    W1 = W1 - alpha * dW1\n",
    "    b1 = b1 - alpha * db1    \n",
    "    W2 = W2 - alpha * dW2  \n",
    "    b2 = b2 - alpha * db2    \n",
    "    return W1, b1, W2, b2"
   ]
  },
  {
   "cell_type": "code",
   "execution_count": 40,
   "metadata": {
    "execution": {
     "iopub.execute_input": "2025-05-24T07:34:49.442982Z",
     "iopub.status.busy": "2025-05-24T07:34:49.442219Z",
     "iopub.status.idle": "2025-05-24T07:34:49.458342Z",
     "shell.execute_reply": "2025-05-24T07:34:49.457465Z",
     "shell.execute_reply.started": "2025-05-24T07:34:49.442951Z"
    },
    "trusted": true
   },
   "outputs": [],
   "source": [
    "def get_predictions(A2):\n",
    "    return np.argmax(A2, 0)\n",
    "\n",
    "def get_accuracy(predictions, Y):\n",
    "    print(predictions, Y)\n",
    "    return np.sum(predictions == Y) / Y.size\n",
    "\n",
    "def gradient_descent(X, Y, alpha, iterations):\n",
    "    W1, b1, W2, b2 = init_params()\n",
    "    for i in range(iterations):\n",
    "        Z1, A1, Z2, A2 = forward_prop(W1, b1, W2, b2, X)\n",
    "        dW1, db1, dW2, db2 = backward_prop(Z1, A1, Z2, A2, W1, W2, X, Y)\n",
    "        W1, b1, W2, b2 = update_params(W1, b1, W2, b2, dW1, db1, dW2, db2, alpha)\n",
    "        if i % 10 == 0:\n",
    "            print(\"Iteration: \", i)\n",
    "            predictions = get_predictions(A2)\n",
    "            print(get_accuracy(predictions, Y))\n",
    "    return W1, b1, W2, b2"
   ]
  },
  {
   "cell_type": "code",
   "execution_count": 49,
   "metadata": {
    "execution": {
     "iopub.execute_input": "2025-05-24T07:37:26.106742Z",
     "iopub.status.busy": "2025-05-24T07:37:26.106458Z",
     "iopub.status.idle": "2025-05-24T07:38:01.041840Z",
     "shell.execute_reply": "2025-05-24T07:38:01.040916Z",
     "shell.execute_reply.started": "2025-05-24T07:37:26.106720Z"
    },
    "trusted": true
   },
   "outputs": [
    {
     "name": "stdout",
     "output_type": "stream",
     "text": [
      "Iteration:  0\n",
      "[4 6 6 ... 4 9 4] [9 3 9 ... 3 5 3]\n",
      "0.07558536585365853\n",
      "Iteration:  10\n",
      "[4 3 3 ... 3 3 3] [9 3 9 ... 3 5 3]\n",
      "0.5116585365853659\n",
      "Iteration:  20\n",
      "[4 3 3 ... 3 3 3] [9 3 9 ... 3 5 3]\n",
      "0.4616585365853659\n",
      "Iteration:  30\n",
      "[2 3 3 ... 3 3 3] [9 3 9 ... 3 5 3]\n",
      "0.6110243902439024\n",
      "Iteration:  40\n",
      "[4 8 8 ... 3 3 3] [9 3 9 ... 3 5 3]\n",
      "0.7028536585365853\n",
      "Iteration:  50\n",
      "[4 3 3 ... 3 3 3] [9 3 9 ... 3 5 3]\n",
      "0.6433170731707317\n",
      "Iteration:  60\n",
      "[9 3 9 ... 3 3 3] [9 3 9 ... 3 5 3]\n",
      "0.6510487804878049\n",
      "Iteration:  70\n",
      "[4 3 3 ... 3 5 3] [9 3 9 ... 3 5 3]\n",
      "0.7113414634146341\n",
      "Iteration:  80\n",
      "[4 3 9 ... 3 3 3] [9 3 9 ... 3 5 3]\n",
      "0.795829268292683\n",
      "Iteration:  90\n",
      "[9 3 9 ... 3 5 3] [9 3 9 ... 3 5 3]\n",
      "0.845609756097561\n",
      "Iteration:  100\n",
      "[9 5 9 ... 3 5 3] [9 3 9 ... 3 5 3]\n",
      "0.8450243902439024\n",
      "Iteration:  110\n",
      "[9 5 9 ... 3 5 3] [9 3 9 ... 3 5 3]\n",
      "0.8330487804878048\n",
      "Iteration:  120\n",
      "[9 3 9 ... 3 5 3] [9 3 9 ... 3 5 3]\n",
      "0.8461219512195122\n",
      "Iteration:  130\n",
      "[9 3 9 ... 3 5 3] [9 3 9 ... 3 5 3]\n",
      "0.8661951219512195\n",
      "Iteration:  140\n",
      "[9 3 9 ... 3 5 3] [9 3 9 ... 3 5 3]\n",
      "0.8481219512195122\n",
      "Iteration:  150\n",
      "[9 5 9 ... 3 5 3] [9 3 9 ... 3 5 3]\n",
      "0.8687073170731707\n",
      "Iteration:  160\n",
      "[9 5 9 ... 3 5 3] [9 3 9 ... 3 5 3]\n",
      "0.8721951219512195\n",
      "Iteration:  170\n",
      "[9 3 9 ... 3 5 3] [9 3 9 ... 3 5 3]\n",
      "0.8802439024390244\n",
      "Iteration:  180\n",
      "[9 3 9 ... 3 5 3] [9 3 9 ... 3 5 3]\n",
      "0.8851707317073171\n",
      "Iteration:  190\n",
      "[9 3 9 ... 3 8 3] [9 3 9 ... 3 5 3]\n",
      "0.8175121951219512\n",
      "Iteration:  200\n",
      "[9 3 9 ... 3 5 3] [9 3 9 ... 3 5 3]\n",
      "0.8940731707317073\n",
      "Iteration:  210\n",
      "[9 3 9 ... 3 5 3] [9 3 9 ... 3 5 3]\n",
      "0.8956585365853659\n",
      "Iteration:  220\n",
      "[9 3 9 ... 3 5 3] [9 3 9 ... 3 5 3]\n",
      "0.8659268292682927\n",
      "Iteration:  230\n",
      "[9 3 9 ... 3 5 3] [9 3 9 ... 3 5 3]\n",
      "0.8993658536585366\n",
      "Iteration:  240\n",
      "[9 3 9 ... 3 5 3] [9 3 9 ... 3 5 3]\n",
      "0.8954390243902439\n",
      "Iteration:  250\n",
      "[9 3 9 ... 3 5 3] [9 3 9 ... 3 5 3]\n",
      "0.890390243902439\n",
      "Iteration:  260\n",
      "[9 3 9 ... 3 5 3] [9 3 9 ... 3 5 3]\n",
      "0.9028536585365854\n",
      "Iteration:  270\n",
      "[9 3 9 ... 3 5 3] [9 3 9 ... 3 5 3]\n",
      "0.9051219512195122\n",
      "Iteration:  280\n",
      "[9 3 9 ... 3 5 3] [9 3 9 ... 3 5 3]\n",
      "0.8272439024390243\n",
      "Iteration:  290\n",
      "[9 3 9 ... 3 5 3] [9 3 9 ... 3 5 3]\n",
      "0.9053170731707317\n",
      "Iteration:  300\n",
      "[9 3 9 ... 3 5 3] [9 3 9 ... 3 5 3]\n",
      "0.9086585365853659\n",
      "Iteration:  310\n",
      "[9 3 9 ... 3 5 3] [9 3 9 ... 3 5 3]\n",
      "0.909609756097561\n",
      "Iteration:  320\n",
      "[9 3 9 ... 3 5 3] [9 3 9 ... 3 5 3]\n",
      "0.9091951219512195\n",
      "Iteration:  330\n",
      "[9 3 9 ... 3 5 3] [9 3 9 ... 3 5 3]\n",
      "0.8938292682926829\n",
      "Iteration:  340\n",
      "[9 3 9 ... 3 5 3] [9 3 9 ... 3 5 3]\n",
      "0.9095121951219513\n",
      "Iteration:  350\n",
      "[9 3 9 ... 3 5 3] [9 3 9 ... 3 5 3]\n",
      "0.9097073170731708\n",
      "Iteration:  360\n",
      "[9 3 9 ... 3 5 3] [9 3 9 ... 3 5 3]\n",
      "0.8965609756097561\n",
      "Iteration:  370\n",
      "[9 3 9 ... 3 5 3] [9 3 9 ... 3 5 3]\n",
      "0.8778292682926829\n",
      "Iteration:  380\n",
      "[9 3 9 ... 3 5 3] [9 3 9 ... 3 5 3]\n",
      "0.9128780487804878\n",
      "Iteration:  390\n",
      "[9 3 9 ... 3 5 3] [9 3 9 ... 3 5 3]\n",
      "0.9134390243902439\n",
      "Iteration:  400\n",
      "[9 3 9 ... 3 5 3] [9 3 9 ... 3 5 3]\n",
      "0.8525609756097561\n",
      "Iteration:  410\n",
      "[9 3 9 ... 3 5 3] [9 3 9 ... 3 5 3]\n",
      "0.9140975609756098\n",
      "Iteration:  420\n",
      "[9 3 9 ... 3 5 3] [9 3 9 ... 3 5 3]\n",
      "0.9161463414634147\n",
      "Iteration:  430\n",
      "[9 3 9 ... 3 5 3] [9 3 9 ... 3 5 3]\n",
      "0.9174390243902439\n",
      "Iteration:  440\n",
      "[9 3 9 ... 3 5 3] [9 3 9 ... 3 5 3]\n",
      "0.9180975609756098\n",
      "Iteration:  450\n",
      "[9 3 9 ... 3 5 3] [9 3 9 ... 3 5 3]\n",
      "0.9178536585365854\n",
      "Iteration:  460\n",
      "[9 3 7 ... 3 5 3] [9 3 9 ... 3 5 3]\n",
      "0.7861951219512195\n",
      "Iteration:  470\n",
      "[9 3 9 ... 3 5 3] [9 3 9 ... 3 5 3]\n",
      "0.9128780487804878\n",
      "Iteration:  480\n",
      "[9 3 9 ... 3 5 3] [9 3 9 ... 3 5 3]\n",
      "0.9171951219512195\n",
      "Iteration:  490\n",
      "[9 3 9 ... 3 5 3] [9 3 9 ... 3 5 3]\n",
      "0.9172682926829269\n"
     ]
    }
   ],
   "source": [
    "W1, b1, W2, b2 = gradient_descent(X_train, Y_train, 1, 500)"
   ]
  },
  {
   "cell_type": "code",
   "execution_count": 50,
   "metadata": {
    "execution": {
     "iopub.execute_input": "2025-05-24T07:38:04.686465Z",
     "iopub.status.busy": "2025-05-24T07:38:04.686197Z",
     "iopub.status.idle": "2025-05-24T07:38:04.692422Z",
     "shell.execute_reply": "2025-05-24T07:38:04.691414Z",
     "shell.execute_reply.started": "2025-05-24T07:38:04.686446Z"
    },
    "trusted": true
   },
   "outputs": [],
   "source": [
    "def make_predictions(X, W1, b1, W2, b2):\n",
    "    _, _, _, A2 = forward_prop(W1, b1, W2, b2, X)\n",
    "    predictions = get_predictions(A2)\n",
    "    return predictions\n",
    "\n",
    "def test_prediction(index, W1, b1, W2, b2):\n",
    "    current_image = X_train[:, index, None]\n",
    "    prediction = make_predictions(X_train[:, index, None], W1, b1, W2, b2)\n",
    "    label = Y_train[index]\n",
    "    print(\"Prediction: \", prediction)\n",
    "    print(\"Label: \", label)\n",
    "    \n",
    "    current_image = current_image.reshape((28, 28)) * 255\n",
    "    plt.gray()\n",
    "    plt.imshow(current_image, interpolation='nearest')\n",
    "    plt.show()"
   ]
  },
  {
   "cell_type": "code",
   "execution_count": 51,
   "metadata": {
    "execution": {
     "iopub.execute_input": "2025-05-24T07:38:08.605126Z",
     "iopub.status.busy": "2025-05-24T07:38:08.604794Z",
     "iopub.status.idle": "2025-05-24T07:38:09.110433Z",
     "shell.execute_reply": "2025-05-24T07:38:09.109720Z",
     "shell.execute_reply.started": "2025-05-24T07:38:08.605104Z"
    },
    "trusted": true
   },
   "outputs": [
    {
     "name": "stdout",
     "output_type": "stream",
     "text": [
      "Prediction:  [9]\n",
      "Label:  9\n"
     ]
    },
    {
     "data": {
      "image/png": "[encoded data removed]",
      "text/plain": [
       "<Figure size 640x480 with 1 Axes>"
      ]
     },
     "metadata": {},
     "output_type": "display_data"
    },
    {
     "name": "stdout",
     "output_type": "stream",
     "text": [
      "Prediction:  [3]\n",
      "Label:  3\n"
     ]
    },
    {
     "data": {
      "image/png": "[encoded data removed]",
      "text/plain": [
       "<Figure size 640x480 with 1 Axes>"
      ]
     },
     "metadata": {},
     "output_type": "display_data"
    },
    {
     "name": "stdout",
     "output_type": "stream",
     "text": [
      "Prediction:  [9]\n",
      "Label:  9\n"
     ]
    },
    {
     "data": {
      "image/png": "[encoded data removed]",
      "text/plain": [
       "<Figure size 640x480 with 1 Axes>"
      ]
     },
     "metadata": {},
     "output_type": "display_data"
    },
    {
     "name": "stdout",
     "output_type": "stream",
     "text": [
      "Prediction:  [2]\n",
      "Label:  2\n"
     ]
    },
    {
     "data": {
      "image/png": "[encoded data removed]",
      "text/plain": [
       "<Figure size 640x480 with 1 Axes>"
      ]
     },
     "metadata": {},
     "output_type": "display_data"
    }
   ],
   "source": [
    "test_prediction(0, W1, b1, W2, b2)\n",
    "test_prediction(1, W1, b1, W2, b2)\n",
    "test_prediction(2, W1, b1, W2, b2)\n",
    "test_prediction(3, W1, b1, W2, b2)"
   ]
  },
  {
   "cell_type": "code",
   "execution_count": 52,
   "metadata": {
    "execution": {
     "iopub.execute_input": "2025-05-24T07:38:14.598339Z",
     "iopub.status.busy": "2025-05-24T07:38:14.597647Z",
     "iopub.status.idle": "2025-05-24T07:38:14.609226Z",
     "shell.execute_reply": "2025-05-24T07:38:14.608433Z",
     "shell.execute_reply.started": "2025-05-24T07:38:14.598312Z"
    },
    "trusted": true
   },
   "outputs": [
    {
     "name": "stdout",
     "output_type": "stream",
     "text": [
      "[2 9 3 8 4 2 0 4 8 6 3 6 9 2 4 2 6 1 9 1 6 9 8 3 0 6 7 2 3 7 8 2 9 6 5 4 3\n",
      " 9 4 2 1 2 7 2 3 6 4 6 3 7 1 4 8 3 2 6 9 2 8 6 7 1 9 1 6 1 2 7 3 4 9 1 2 8\n",
      " 2 5 3 2 7 8 3 4 7 2 9 0 3 4 8 1 2 0 1 0 1 0 2 4 7 5 4 6 4 6 9 3 0 1 8 6 6\n",
      " 4 2 1 4 7 1 3 6 0 0 6 2 4 9 9 5 8 6 5 9 1 7 8 9 7 2 0 2 1 3 8 3 9 1 2 4 1\n",
      " 1 5 7 8 8 2 2 3 0 5 6 0 6 3 5 1 8 0 5 2 9 4 7 6 4 1 8 9 8 7 0 6 1 2 7 2 3\n",
      " 3 7 5 9 1 1 3 6 8 8 1 9 9 3 4 0 5 9 8 5 9 6 9 3 7 1 3 6 4 3 1 6 4 4 0 6 7\n",
      " 3 1 1 4 3 0 6 4 6 8 9 6 0 0 8 1 8 1 0 1 4 7 8 1 8 0 0 8 8 4 5 1 1 7 0 6 6\n",
      " 7 3 4 4 3 2 8 3 9 1 6 6 9 6 8 7 0 8 8 0 4 2 9 6 0 7 9 7 4 0 7 8 0 2 2 9 1\n",
      " 8 1 9 6 6 6 3 3 7 6 8 9 6 2 4 9 9 8 3 4 4 9 7 4 0 2 4 1 1 3 9 1 1 5 1 3 9\n",
      " 1 2 7 1 5 4 4 6 3 3 1 9 8 0 6 1 8 1 9 1 1 4 1 8 4 0 6 6 0 1 9 9 3 6 3 0 1\n",
      " 2 3 7 9 7 2 7 2 0 7 9 2 2 7 4 4 2 2 9 8 6 3 1 4 5 1 8 7 7 1 7 7 4 8 2 4 4\n",
      " 9 5 4 5 1 3 8 8 7 7 2 9 2 8 9 7 5 3 6 7 7 3 3 9 2 9 8 9 6 9 7 8 3 8 3 1 3\n",
      " 4 3 0 2 8 5 9 0 9 4 6 6 0 8 0 3 8 5 9 1 6 8 6 9 2 8 4 7 7 7 3 6 5 6 9 1 3\n",
      " 5 7 0 7 8 8 7 3 1 9 0 8 2 6 0 8 5 8 7 3 0 2 6 5 6 3 8 8 1 3 2 2 6 4 9 1 5\n",
      " 1 0 3 7 5 4 0 2 1 8 0 1 5 6 0 8 4 2 1 2 1 3 9 8 6 3 7 1 4 6 3 4 3 6 0 6 7\n",
      " 9 0 3 0 5 4 9 5 3 0 4 3 9 9 2 2 5 9 7 4 0 0 8 2 9 1 7 6 1 7 7 0 6 9 9 9 3\n",
      " 8 3 6 4 5 3 1 6 6 1 4 3 8 7 0 0 5 9 3 1 4 4 9 7 6 4 4 8 3 1 3 6 0 1 3 5 6\n",
      " 6 1 4 7 7 6 6 6 9 3 5 2 7 4 9 6 2 6 4 4 2 9 0 5 4 8 7 3 9 3 4 3 5 8 3 9 7\n",
      " 1 9 1 8 2 2 9 9 1 5 4 6 5 0 9 4 6 9 4 5 3 0 6 9 4 2 1 6 2 2 4 2 1 0 1 3 4\n",
      " 1 7 6 0 0 0 7 0 2 4 9 5 5 2 1 2 9 2 3 1 9 6 2 9 7 1 3 3 5 7 7 0 2 7 0 8 8\n",
      " 7 3 5 4 9 3 1 7 7 7 3 7 3 0 4 8 2 7 4 7 6 5 1 3 0 2 3 0 9 1 0 2 9 3 6 3 2\n",
      " 5 2 4 4 4 4 6 6 1 7 6 0 8 8 4 4 7 3 6 6 1 7 8 8 5 2 7 8 0 6 3 2 5 1 2 9 1\n",
      " 3 6 3 0 5 7 8 5 1 7 7 6 0 1 4 6 9 8 6 1 4 6 9 0 7 9 7 7 3 0 3 1 1 2 9 9 8\n",
      " 6 0 8 1 3 2 2 0 0 3 9 4 5 5 1 8 3 1 9 2 0 3 1 3 2 5 8 0 3 5 7 9 9 9 0 9 9\n",
      " 3 6 8 2 0 1 1 4 6 0 7 4 0 1 8 5 2 6 4 4 4 4 1 9 4 6 5 4 3 0 8 4 3 8 9 4 4\n",
      " 3 3 0 6 7 9 0 8 3 6 5 5 1 3 0 3 8 9 6 1 8 6 3 9 9 6 6 1 7 3 0 5 1 2 6 6 9\n",
      " 4 1 7 6 0 9 1 2 4 3 2 1 7 6 0 7 2 9 7 3 9 6 0 3 4 7 5 2 7 0 0 6 0 4 0 2 7\n",
      " 1] [2 9 3 8 4 2 0 4 2 2 2 6 9 2 4 2 6 1 9 1 6 9 8 5 0 6 7 2 3 7 8 2 9 6 5 4 5\n",
      " 4 4 2 1 2 7 2 3 6 4 6 5 7 1 4 8 3 2 5 9 2 8 6 7 1 9 1 6 8 2 7 3 2 9 1 2 8\n",
      " 2 5 3 2 2 8 3 4 7 2 9 0 3 4 8 1 2 0 1 0 1 0 2 4 7 5 9 6 4 6 9 3 0 1 6 6 6\n",
      " 4 2 1 4 7 1 3 6 0 0 6 2 4 9 9 5 8 5 5 9 1 7 9 9 7 2 9 2 1 3 8 3 3 1 2 4 1\n",
      " 1 5 7 8 8 2 2 3 0 5 6 0 6 3 5 1 8 0 5 2 9 4 7 6 4 1 8 9 8 7 0 6 1 2 7 2 3\n",
      " 3 7 5 9 1 1 3 6 8 8 1 9 9 3 2 0 6 9 8 5 7 6 9 5 7 1 5 6 4 3 1 6 4 4 0 6 7\n",
      " 3 1 1 4 3 0 8 4 6 8 4 4 0 0 8 2 5 1 0 1 4 7 5 1 8 0 6 8 8 4 5 1 1 7 0 0 6\n",
      " 7 3 4 4 3 2 8 3 9 1 6 6 9 6 8 7 0 8 8 0 4 7 0 6 0 7 9 7 4 0 7 8 0 2 2 9 1\n",
      " 8 8 9 6 6 6 3 3 7 6 8 9 6 2 4 9 9 8 3 4 4 9 7 4 0 2 4 1 1 3 9 1 1 5 1 3 9\n",
      " 1 2 7 1 5 4 4 6 3 3 1 9 8 5 6 1 8 1 9 1 1 4 1 9 4 9 6 2 0 1 9 9 3 6 3 0 1\n",
      " 2 3 7 9 7 2 7 2 5 7 9 2 2 7 4 7 2 2 9 8 6 2 1 4 5 1 5 7 7 1 7 7 4 8 2 4 4\n",
      " 9 5 4 5 1 3 8 5 7 7 2 9 2 8 9 7 5 3 5 2 7 3 3 9 2 8 8 9 6 9 7 8 3 8 3 1 1\n",
      " 2 3 0 8 8 5 9 0 9 4 3 6 0 8 0 3 8 5 9 1 6 5 6 9 2 8 6 7 7 7 3 6 5 6 9 1 3\n",
      " 5 7 0 7 8 8 7 3 1 9 0 8 2 6 0 5 5 8 7 3 0 2 6 5 6 3 8 8 1 3 2 2 6 4 9 1 6\n",
      " 1 0 3 7 5 4 0 2 1 8 0 1 5 6 0 8 4 2 1 2 1 3 9 5 6 3 7 1 4 6 3 4 8 6 0 6 7\n",
      " 9 0 3 0 5 4 9 5 3 0 4 3 9 9 2 6 5 9 7 4 0 0 8 2 9 1 7 6 1 7 7 0 6 9 9 9 3\n",
      " 8 3 6 4 5 3 1 6 6 1 4 5 5 7 2 0 5 9 3 1 9 4 9 7 6 4 4 8 3 1 3 6 0 1 3 5 6\n",
      " 0 1 4 7 9 6 6 8 9 3 5 2 7 4 9 6 3 6 4 9 0 9 0 5 4 8 7 3 9 2 4 3 5 8 3 9 7\n",
      " 1 9 1 5 2 2 9 9 1 5 4 6 5 0 9 4 2 9 8 5 5 0 6 9 6 2 1 5 2 2 4 2 1 0 1 3 4\n",
      " 1 7 6 0 0 0 7 0 2 4 9 5 5 2 1 2 4 2 3 1 9 6 2 9 7 1 3 3 5 7 7 0 2 7 0 8 8\n",
      " 7 3 5 4 9 3 2 7 7 7 3 7 3 0 4 8 2 7 4 7 6 5 1 3 6 2 3 0 9 1 0 2 9 3 6 3 2\n",
      " 5 2 4 4 2 4 6 6 1 7 3 0 8 5 4 4 7 3 6 6 1 7 8 8 5 2 7 1 0 6 3 2 5 1 2 4 1\n",
      " 8 6 3 0 8 7 8 5 1 4 7 6 0 1 4 6 9 8 6 1 4 6 4 0 3 9 7 7 5 0 3 1 1 2 9 9 8\n",
      " 6 0 8 1 3 2 2 0 0 3 9 4 5 5 1 8 3 5 9 2 0 5 1 2 2 5 8 0 3 8 7 5 9 9 0 9 4\n",
      " 3 6 8 7 0 1 1 4 6 0 7 4 0 1 9 8 4 6 4 4 4 4 1 9 4 5 5 4 5 0 5 4 3 8 9 4 4\n",
      " 3 3 2 6 7 9 0 8 2 6 5 5 1 5 0 5 8 9 6 1 8 6 3 9 9 6 6 1 7 8 0 5 1 2 6 6 9\n",
      " 4 1 7 6 0 9 1 2 4 3 2 1 7 5 0 7 2 9 7 3 9 6 0 5 4 2 5 2 7 0 5 6 5 4 0 2 7\n",
      " 1]\n"
     ]
    },
    {
     "data": {
      "text/plain": [
       "0.89"
      ]
     },
     "execution_count": 52,
     "metadata": {},
     "output_type": "execute_result"
    }
   ],
   "source": [
    "dev_predictions = make_predictions(X_dev, W1, b1, W2, b2)\n",
    "get_accuracy(dev_predictions, Y_dev)"
   ]
  }
 ],
 "metadata": {
  "kaggle": {
   "accelerator": "none",
   "dataSources": [
    {
     "databundleVersionId": 861823,
     "sourceId": 3004,
     "sourceType": "competition"
    }
   ],
   "dockerImageVersionId": 31040,
   "isGpuEnabled": false,
   "isInternetEnabled": false,
   "language": "python",
   "sourceType": "notebook"
  },
  "kernelspec": {
   "display_name": "Python 3",
   "language": "python",
   "name": "python3"
  },
  "language_info": {
   "codemirror_mode": {
    "name": "ipython",
    "version": 3
   },
   "file_extension": ".py",
   "mimetype": "text/x-python",
   "name": "python",
   "nbconvert_exporter": "python",
   "pygments_lexer": "ipython3",
   "version": "3.11.11"
  }
 },
 "nbformat": 4,
 "nbformat_minor": 4
}
